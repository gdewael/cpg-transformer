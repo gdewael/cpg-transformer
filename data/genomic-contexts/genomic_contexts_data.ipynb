{
 "cells": [
  {
   "attachments": {},
   "cell_type": "markdown",
   "metadata": {},
   "source": [
    "# Download, pick, and generate data of specific genomic contexts.\n",
    "To pick the interested region of specific genomic context and generate datasets of them, an example of GRCm39/mm39 on chromosome [10] is performed (Original build in the paper is Ensembl build 104).\n",
    "\n",
    "There are three types of raw files:\n",
    "- Regulatory Features: promoter, enhancers, TFBS, open chromatin, CTCF BS\n",
    "- Featuer types: Exons, CDS\n",
    "- Histone binding sites: H3K27ac, H3K27me3, H3K36me3, H3K4me1, H3K4me3, H3K9ac, H3K9me3, p300\n",
    "- CpG featuers: CpG islands, CpG shores\n",
    "\n",
    "Three steps are included respectively:\n",
    "- Download \n",
    "- Pick interested regions and corresponding index\n",
    "- Generate dataset by new index"
   ]
  },
  {
   "cell_type": "code",
   "execution_count": 71,
   "metadata": {},
   "outputs": [],
   "source": [
    "import numpy as np\n",
    "import os\n",
    "import requests\n",
    "import gzip\n",
    "import shutil\n",
    "import pandas as pd\n",
    "import bisect\n",
    "import subprocess\n",
    "from tqdm import tqdm\n",
    "# set chromosome ID \n",
    "target_chromosome = ['10'] #chromosome 10 for example\n",
    "# load files of Ser Dataset\n",
    "y = np.load(\"y.npz\")# your y.npz file path of Ser dataset\n",
    "pos = np.load(\"pos.npz\")# your pos.npz file path of Ser dataset"
   ]
  },
  {
   "attachments": {},
   "cell_type": "markdown",
   "metadata": {},
   "source": [
    "# Regulatory Features\n",
    "\n",
    "Available regions: {'promoter', 'CTCF_binding_site', 'open_chromatin_region', 'enhancer', 'TF_binding_site'}\n",
    "\n",
    "## Download"
   ]
  },
  {
   "cell_type": "code",
   "execution_count": 5,
   "metadata": {},
   "outputs": [],
   "source": [
    "# Define the URL and filename\n",
    "url = 'https://ftp.ensembl.org/pub/release-109/regulation/mus_musculus/mus_musculus.GRCm39.Regulatory_Build.regulatory_features.20221007.gff.gz'\n",
    "filename = 'mus_musculus.GRCm39.Regulatory_Build.regulatory_features.20221007.gff.gz'\n",
    "unzip_filename = 'mus_musculus.GRCm39.Regulatory_Build.regulatory_features.20221007.gff'\n",
    "\n",
    "if not os.path.exists(unzip_filename):\n",
    "    # Download the file to the current directory\n",
    "    response = requests.get(url)\n",
    "\n",
    "    if response.status_code == 200:\n",
    "        with open(os.path.join(os.getcwd(), filename), 'wb') as f:\n",
    "            f.write(response.content)\n",
    "\n",
    "    # Unzip the compressed file\n",
    "    with gzip.open(filename, 'rb') as f_in:\n",
    "        with open(unzip_filename, 'wb') as f_out:\n",
    "            shutil.copyfileobj(f_in, f_out)"
   ]
  },
  {
   "attachments": {},
   "cell_type": "markdown",
   "metadata": {},
   "source": [
    "## Pick interested regions and generate the corresponding dataset"
   ]
  },
  {
   "cell_type": "code",
   "execution_count": 8,
   "metadata": {},
   "outputs": [
    {
     "name": "stdout",
     "output_type": "stream",
     "text": [
      "Picked type:  promoter\n"
     ]
    },
    {
     "name": "stderr",
     "output_type": "stream",
     "text": [
      "100%|██████████| 1/1 [00:00<00:00,  7.87it/s]\n"
     ]
    },
    {
     "name": "stdout",
     "output_type": "stream",
     "text": [
      "Picked type:  CTCF_binding_site\n"
     ]
    },
    {
     "name": "stderr",
     "output_type": "stream",
     "text": [
      "100%|██████████| 1/1 [00:00<00:00,  7.95it/s]\n"
     ]
    },
    {
     "name": "stdout",
     "output_type": "stream",
     "text": [
      "Picked type:  open_chromatin_region\n"
     ]
    },
    {
     "name": "stderr",
     "output_type": "stream",
     "text": [
      "100%|██████████| 1/1 [00:00<00:00,  7.85it/s]\n"
     ]
    },
    {
     "name": "stdout",
     "output_type": "stream",
     "text": [
      "Picked type:  enhancer\n"
     ]
    },
    {
     "name": "stderr",
     "output_type": "stream",
     "text": [
      "100%|██████████| 1/1 [00:00<00:00,  6.13it/s]\n"
     ]
    },
    {
     "name": "stdout",
     "output_type": "stream",
     "text": [
      "Picked type:  TF_binding_site\n"
     ]
    },
    {
     "name": "stderr",
     "output_type": "stream",
     "text": [
      "100%|██████████| 1/1 [00:00<00:00,  8.42it/s]\n"
     ]
    }
   ],
   "source": [
    "# Pick feature types you are interested in\n",
    "picked_type_list = ['promoter', 'CTCF_binding_site', 'open_chromatin_region', 'enhancer', 'TF_binding_site']\n",
    "# Load GFF file into pandas DataFrame\n",
    "df = pd.read_csv(unzip_filename, sep='\\t', header=None, usecols=range(5))\n",
    "column_names = ['chr_id', 'Regulatory_build', 'type', 'start', 'end']\n",
    "df.columns = column_names\n",
    "for pick_type_id in picked_type_list:\n",
    "    print('Picked type: ', pick_type_id)\n",
    "    pick_type = pick_type_id\n",
    "    if not os.path.exists('y_'+pick_type+'.npz'):\n",
    "        y_picked = {}\n",
    "        pos_picked = {}\n",
    "        for target_chromosome_id in tqdm(target_chromosome):\n",
    "            # Select specific chromosome\n",
    "            df_chr = df[df['chr_id'] == target_chromosome_id][['type', 'start', 'end']]\n",
    "            # Available elements\n",
    "            # print(\"Available regions:\",set(df_chr['type']))\n",
    "            # Take promoter as an example\n",
    "            df_chr_pick = df_chr[df_chr['type'] == pick_type][['start', 'end']]\n",
    "            df_chr_pick = df_chr_pick.sort_values(by='start').reset_index(drop=True)\n",
    "            chr_pick = df_chr_pick.values\n",
    "\n",
    "            chromosome_name = 'chr'+target_chromosome_id\n",
    "            # select chromosome\n",
    "            y_chr = y[chromosome_name]\n",
    "            pos_chr = pos[chromosome_name]\n",
    "            # initial new dataset\n",
    "            y_chr_picked = []\n",
    "            pos_chr_picked = [] \n",
    "            [last_start, last_end] = [0, 0]\n",
    "            for i in range(chr_pick.shape[0]):\n",
    "                [start, end] = chr_pick[i, :]\n",
    "                if last_start == start or start < last_end:\n",
    "                    continue   \n",
    "                start_pick = bisect.bisect_left(pos_chr, start)\n",
    "                end_pick = bisect.bisect_right(pos_chr, end) - 1\n",
    "                if end_pick <= 0:\n",
    "                    continue\n",
    "                if end_pick > pos_chr.shape[0]:\n",
    "                    continue\n",
    "                y_chr_picked += list(y_chr[start_pick:end_pick,:])\n",
    "                pos_chr_picked += list(pos_chr[start_pick:end_pick])\n",
    "                [last_start, last_end] = [start, end]\n",
    "            y_chr_picked = np.array(y_chr_picked)\n",
    "\n",
    "            y_picked[chromosome_name] = y_chr_picked\n",
    "            pos_picked[chromosome_name] = pos_chr_picked\n",
    "            \n",
    "        # save as npz\n",
    "        np.savez_compressed('y_'+pick_type+'.npz', **y_picked)\n",
    "        np.savez_compressed('pos_'+pick_type+'.npz', **pos_picked)"
   ]
  },
  {
   "attachments": {},
   "cell_type": "markdown",
   "metadata": {},
   "source": [
    "# Feature types\n",
    "\n",
    "Available regions: {'ncRNA', 'CDS', 'unconfirmed_transcript', 'transcript', 'ncRNA_gene', 'mRNA', 'scRNA', 'biological_region', 'five_prime_UTR', 'rRNA', 'snoRNA', 'pseudogene', 'snRNA', 'miRNA', 'lnc_RNA', 'pseudogenic_transcript', 'exon', 'three_prime_UTR', 'chromosome', 'gene'}\n",
    "\n",
    "### Download"
   ]
  },
  {
   "cell_type": "code",
   "execution_count": 10,
   "metadata": {},
   "outputs": [
    {
     "name": "stderr",
     "output_type": "stream",
     "text": [
      "100%|██████████| 1/1 [00:09<00:00,  9.47s/it]\n"
     ]
    }
   ],
   "source": [
    "for target_chromosome_id in tqdm(target_chromosome):\n",
    "    # Define the URL and filename\n",
    "    url = 'https://ftp.ensembl.org/pub/release-109/gff3/mus_musculus/Mus_musculus.GRCm39.109.chromosome.'+target_chromosome_id+'.gff3.gz'\n",
    "    filename = 'Mus_musculus.GRCm39.109.chromosome.'+target_chromosome_id+'.gff3.gz'\n",
    "    unzip_filename = 'Mus_musculus.GRCm39.109.chromosome.'+target_chromosome_id+'.gff3'\n",
    "\n",
    "    if not os.path.exists(unzip_filename):\n",
    "        # Download the file to the current directory\n",
    "        response = requests.get(url)\n",
    "\n",
    "        if response.status_code == 200:\n",
    "            with open(os.path.join(os.getcwd(), filename), 'wb') as f:\n",
    "                f.write(response.content)\n",
    "\n",
    "        # Unzip the compressed file\n",
    "        with gzip.open(filename, 'rb') as f_in:\n",
    "            with open(unzip_filename, 'wb') as f_out:\n",
    "                shutil.copyfileobj(f_in, f_out)"
   ]
  },
  {
   "attachments": {},
   "cell_type": "markdown",
   "metadata": {},
   "source": [
    "## Pick interested regions and generate the corresponding dataset"
   ]
  },
  {
   "cell_type": "code",
   "execution_count": 12,
   "metadata": {},
   "outputs": [
    {
     "name": "stdout",
     "output_type": "stream",
     "text": [
      "Picked type:  CDS\n"
     ]
    },
    {
     "name": "stderr",
     "output_type": "stream",
     "text": [
      "100%|██████████| 1/1 [00:00<00:00,  4.92it/s]\n"
     ]
    },
    {
     "name": "stdout",
     "output_type": "stream",
     "text": [
      "Picked type:  exon\n"
     ]
    },
    {
     "name": "stderr",
     "output_type": "stream",
     "text": [
      "100%|██████████| 1/1 [00:00<00:00,  4.30it/s]\n"
     ]
    }
   ],
   "source": [
    "# Pick feature types you are interested in\n",
    "picked_type_list = ['CDS', 'exon']\n",
    "for pick_type_id in ['CDS', 'exon']:\n",
    "    print('Picked type: ', picked_type_list)\n",
    "    pick_type = pick_type_id\n",
    "    if not os.path.exists('y_'+pick_type+'.npz'):\n",
    "        y_picked = {}\n",
    "        pos_picked = {}\n",
    "        for target_chromosome_id in tqdm(target_chromosome[:]):\n",
    "            # Load GFF file into pandas DataFrame\n",
    "            df = pd.read_csv('Mus_musculus.GRCm39.109.chromosome.'+target_chromosome_id+'.gff3', sep='\\t', header=None, comment='#', usecols=range(2,5))\n",
    "            column_names = ['feature_type', 'start', 'end']\n",
    "            df.columns = column_names\n",
    "            # Available features\n",
    "            # print(\"Available regions:\",set(df['feature_type']))\n",
    "\n",
    "            # Take exons as an example\n",
    "            df_chr_pick = df[df['feature_type'] == pick_type][['start', 'end']]\n",
    "            df_chr_pick = df_chr_pick.sort_values(by='start').reset_index(drop=True)\n",
    "            chr_pick = df_chr_pick.values\n",
    "\n",
    "            # load files of Ser Dataset\n",
    "            chromosome_name = 'chr'+target_chromosome_id\n",
    "            # select chromosome\n",
    "            y_chr = y[chromosome_name]\n",
    "            pos_chr = pos[chromosome_name]\n",
    "            # initial new dataset\n",
    "            y_chr_picked = []\n",
    "            pos_chr_picked = [] \n",
    "            [last_start, last_end] = [0, 0]\n",
    "            for i in range(chr_pick.shape[0]):\n",
    "                [start, end] = chr_pick[i, :]\n",
    "                if last_start == start or start < last_end:\n",
    "                    continue    \n",
    "                start_pick = bisect.bisect_left(pos_chr, start)\n",
    "                end_pick = bisect.bisect_right(pos_chr, end) - 1\n",
    "                if end_pick <= 0:\n",
    "                    continue\n",
    "                if end_pick > pos_chr.shape[0]:\n",
    "                    continue\n",
    "                y_chr_picked += list(y_chr[start_pick:end_pick,:])\n",
    "                pos_chr_picked += list(pos_chr[start_pick:end_pick])\n",
    "                [last_start, last_end] = [start, end]\n",
    "            y_chr_picked = np.array(y_chr_picked)\n",
    "\n",
    "            y_picked[chromosome_name] = y_chr_picked\n",
    "            pos_picked[chromosome_name] = pos_chr_picked\n",
    "        # save as npz\n",
    "        np.savez_compressed('y_'+pick_type+'.npz', **y_picked)\n",
    "        np.savez_compressed('pos_'+pick_type+'.npz', **pos_picked)"
   ]
  },
  {
   "attachments": {},
   "cell_type": "markdown",
   "metadata": {},
   "source": [
    "# Histone binding sites\n",
    "\n",
    "Available regions: {'H3K27ac', 'H3K27me3', 'H3K36me3', 'H3K4me1', 'H3K4me3', 'H3K9ac', 'H3K9me3', 'EP300'}\n",
    "\n",
    "## Download"
   ]
  },
  {
   "cell_type": "code",
   "execution_count": 43,
   "metadata": {},
   "outputs": [
    {
     "name": "stderr",
     "output_type": "stream",
     "text": [
      "100%|██████████| 7/7 [00:37<00:00,  5.42s/it]\n"
     ]
    }
   ],
   "source": [
    "download_histone_list = ['H3K27ac', 'H3K36me3', 'H3K4me1', 'H3K4me3', 'H3K9ac', 'H3K9me3', 'EP300']\n",
    "for download_histone_id in tqdm(download_histone_list):\n",
    "    # Define the URL and filename\n",
    "    if download_histone_id in ['H3K27ac', 'H3K9ac', 'H3K4me3', 'EP300']:\n",
    "        url = 'https://ftp.ensembl.org/pub/release-109/regulation/mus_musculus/Peaks/ES_Bruce4_embryonic/'+download_histone_id+'/mus_musculus.GRCm39.ES_Bruce4_embryonic.'+download_histone_id+'.SWEmbl_R0005.peaks.20201003.bed.gz'\n",
    "        filename = 'mus_musculus.GRCm39.ES_Bruce4_embryonic.'+download_histone_id+'.SWEmbl_R0005.peaks.20201003.bed.gz'\n",
    "        unzip_filename = 'mus_musculus.GRCm39.ES_Bruce4_embryonic.'+download_histone_id+'.SWEmbl_R0005.peaks.20201003.bed'\n",
    "    else:\n",
    "        url = 'https://ftp.ensembl.org/pub/release-109/regulation/mus_musculus/Peaks/ES_Bruce4_embryonic/'+download_histone_id+'/mus_musculus.GRCm39.ES_Bruce4_embryonic.'+download_histone_id+'.ccat_histone.peaks.20201003.bed.gz'\n",
    "        filename = 'mus_musculus.GRCm39.ES_Bruce4_embryonic.'+download_histone_id+'.ccat_histone.peaks.20201003.bed.gz'\n",
    "        unzip_filename = 'mus_musculus.GRCm39.ES_Bruce4_embryonic.'+download_histone_id+'.ccat_histone.peaks.20201003.bed'\n",
    "    \n",
    "    response = requests.get(url)\n",
    "\n",
    "    if response.status_code == 200 and (not os.path.exists(unzip_filename)):\n",
    "        with open(os.path.join(os.getcwd(), filename), 'wb') as f:\n",
    "            f.write(response.content)\n",
    "\n",
    "        # Unzip the compressed file\n",
    "        with gzip.open(filename, 'rb') as f_in:\n",
    "            with open(unzip_filename, 'wb') as f_out:\n",
    "                shutil.copyfileobj(f_in, f_out)"
   ]
  },
  {
   "attachments": {},
   "cell_type": "markdown",
   "metadata": {},
   "source": [
    "## Pick interested regions and generate the corresponding dataset"
   ]
  },
  {
   "cell_type": "code",
   "execution_count": 72,
   "metadata": {},
   "outputs": [
    {
     "name": "stderr",
     "output_type": "stream",
     "text": [
      "  0%|          | 0/7 [00:00<?, ?it/s]"
     ]
    },
    {
     "name": "stdout",
     "output_type": "stream",
     "text": [
      "Picked type:  H3K27ac\n"
     ]
    },
    {
     "name": "stderr",
     "output_type": "stream",
     "text": [
      "100%|██████████| 1/1 [00:00<00:00, 17.50it/s]\n"
     ]
    },
    {
     "name": "stdout",
     "output_type": "stream",
     "text": [
      "Picked type:  H3K36me3\n"
     ]
    },
    {
     "name": "stderr",
     "output_type": "stream",
     "text": [
      "100%|██████████| 1/1 [00:00<00:00, 13.12it/s]\n",
      " 29%|██▊       | 2/7 [00:00<00:00,  9.92it/s]"
     ]
    },
    {
     "name": "stdout",
     "output_type": "stream",
     "text": [
      "Picked type:  H3K4me1\n"
     ]
    },
    {
     "name": "stderr",
     "output_type": "stream",
     "text": [
      "100%|██████████| 1/1 [00:00<00:00, 13.04it/s]\n",
      " 43%|████▎     | 3/7 [00:00<00:00,  9.37it/s]"
     ]
    },
    {
     "name": "stdout",
     "output_type": "stream",
     "text": [
      "Picked type:  H3K4me3\n"
     ]
    },
    {
     "name": "stderr",
     "output_type": "stream",
     "text": [
      "100%|██████████| 1/1 [00:00<00:00, 17.29it/s]\n"
     ]
    },
    {
     "name": "stdout",
     "output_type": "stream",
     "text": [
      "Picked type:  H3K9ac\n"
     ]
    },
    {
     "name": "stderr",
     "output_type": "stream",
     "text": [
      "100%|██████████| 1/1 [00:00<00:00, 16.67it/s]\n",
      " 71%|███████▏  | 5/7 [00:00<00:00, 10.65it/s]"
     ]
    },
    {
     "name": "stdout",
     "output_type": "stream",
     "text": [
      "Picked type:  H3K9me3\n"
     ]
    },
    {
     "name": "stderr",
     "output_type": "stream",
     "text": [
      "100%|██████████| 1/1 [00:00<00:00, 13.76it/s]\n"
     ]
    },
    {
     "name": "stdout",
     "output_type": "stream",
     "text": [
      "Picked type:  EP300\n"
     ]
    },
    {
     "name": "stderr",
     "output_type": "stream",
     "text": [
      "100%|██████████| 1/1 [00:00<00:00, 18.09it/s]\n",
      "100%|██████████| 7/7 [00:00<00:00, 10.51it/s]\n"
     ]
    }
   ],
   "source": [
    "# Pick feature types you are interested in\n",
    "picked_type_list = ['H3K27ac', 'H3K36me3', 'H3K4me1', 'H3K4me3', 'H3K9ac', 'H3K9me3', 'EP300']\n",
    "for pick_type_id in tqdm(picked_type_list):\n",
    "    print('Picked type: ', pick_type_id)\n",
    "    pick_type = pick_type_id\n",
    "    if pick_type_id in ['H3K27ac', 'H3K9ac', 'H3K4me3', 'EP300']:\n",
    "        unzip_filename = 'mus_musculus.GRCm39.ES_Bruce4_embryonic.'+pick_type_id+'.SWEmbl_R0005.peaks.20201003.bed'\n",
    "    else:\n",
    "        unzip_filename = 'mus_musculus.GRCm39.ES_Bruce4_embryonic.'+pick_type_id+'.ccat_histone.peaks.20201003.bed'\n",
    "    if not os.path.exists('y_'+pick_type+'.npz'):\n",
    "        # Load bed file into pandas DataFrame\n",
    "        df = pd.read_csv(unzip_filename, sep='\\t', header=None, usecols=range(3))\n",
    "        column_names = ['chr_id', 'start', 'end']\n",
    "        df.columns = column_names\n",
    "\n",
    "        y_picked = {}\n",
    "        pos_picked = {}\n",
    "        for target_chromosome_id in tqdm(target_chromosome):\n",
    "            chromosome_name = 'chr'+target_chromosome_id\n",
    "            # Select specific chromosome\n",
    "            df_chr_pick = df[df['chr_id'] == chromosome_name][['start', 'end']]\n",
    "            df_chr_pick = df_chr_pick.sort_values(by='start').reset_index(drop=True)\n",
    "            chr_pick = df_chr_pick.values\n",
    "            # select chromosome\n",
    "            y_chr = y[chromosome_name]\n",
    "            pos_chr = pos[chromosome_name]\n",
    "            # initial new dataset\n",
    "            y_chr_picked = []\n",
    "            pos_chr_picked = [] \n",
    "            [last_start, last_end] = [0, 0]\n",
    "            for i in range(chr_pick.shape[0]):\n",
    "                [start, end] = chr_pick[i, :]\n",
    "                if last_start == start or start < last_end:\n",
    "                    continue   \n",
    "                start_pick = bisect.bisect_left(pos_chr, start)\n",
    "                end_pick = bisect.bisect_right(pos_chr, end) - 1\n",
    "                if end_pick <= 0:\n",
    "                    continue\n",
    "                if end_pick > pos_chr.shape[0]:\n",
    "                    continue\n",
    "                y_chr_picked += list(y_chr[start_pick:end_pick,:])\n",
    "                pos_chr_picked += list(pos_chr[start_pick:end_pick])\n",
    "                [last_start, last_end] = [start, end]\n",
    "            y_chr_picked = np.array(y_chr_picked)\n",
    "\n",
    "            y_picked[chromosome_name] = y_chr_picked\n",
    "            pos_picked[chromosome_name] = pos_chr_picked\n",
    "\n",
    "        # save as npz\n",
    "        np.savez_compressed('y_'+pick_type+'.npz', **y_picked)\n",
    "        np.savez_compressed('pos_'+pick_type+'.npz', **pos_picked)"
   ]
  },
  {
   "attachments": {},
   "cell_type": "markdown",
   "metadata": {},
   "source": [
    "# CpG islands and CpG shores\n",
    " \n",
    "CpG shores: are processed with the regions 0-2000 positions both down and upstream from those CpG Islands\n",
    "\n",
    "['CpG_island', 'CpG_shores']\n",
    "\n",
    "## Download"
   ]
  },
  {
   "cell_type": "code",
   "execution_count": 13,
   "metadata": {},
   "outputs": [],
   "source": [
    "# Define the URL and filename\n",
    "url = 'http://hgdownload.cse.ucsc.edu/goldenpath/mm39/database/cpgIslandExt.txt.gz'\n",
    "filename = 'cpgIslandExt.txt.gz'\n",
    "unzip_filename = 'cpgIslandExt.txt'\n",
    "\n",
    "if not os.path.exists(unzip_filename):\n",
    "    # Download the file to the current directory\n",
    "    response = requests.get(url)\n",
    "\n",
    "    if response.status_code == 200:\n",
    "        with open(os.path.join(os.getcwd(), filename), 'wb') as f:\n",
    "            f.write(response.content)\n",
    "\n",
    "    # Unzip the compressed file\n",
    "    with gzip.open(filename, 'rb') as f_in:\n",
    "        with open(unzip_filename, 'wb') as f_out:\n",
    "            shutil.copyfileobj(f_in, f_out)"
   ]
  },
  {
   "attachments": {},
   "cell_type": "markdown",
   "metadata": {},
   "source": [
    "## Pick interested regions and generate the corresponding dataset"
   ]
  },
  {
   "cell_type": "code",
   "execution_count": 14,
   "metadata": {},
   "outputs": [
    {
     "name": "stdout",
     "output_type": "stream",
     "text": [
      "Picked type:  shores\n"
     ]
    },
    {
     "name": "stderr",
     "output_type": "stream",
     "text": [
      "100%|██████████| 1/1 [00:00<00:00,  8.50it/s]\n"
     ]
    },
    {
     "name": "stdout",
     "output_type": "stream",
     "text": [
      "Picked type:  islands\n"
     ]
    },
    {
     "name": "stderr",
     "output_type": "stream",
     "text": [
      "100%|██████████| 1/1 [00:00<00:00,  9.20it/s]\n"
     ]
    }
   ],
   "source": [
    "# Pick feature types you are interested in\n",
    "picked_type_list = ['shores', 'islands']\n",
    "# Load txt file into pandas DataFrame\n",
    "df = pd.read_csv('cpgIslandExt.txt', sep='\\t', header=None, usecols=range(1,4))\n",
    "column_names = ['chr_id', 'start', 'end']\n",
    "df.columns = column_names\n",
    "\n",
    "for pick_type_id in picked_type_list:\n",
    "    print('Picked type: ', pick_type_id)\n",
    "    pick_type = pick_type_id\n",
    "    if not os.path.exists('y_CpG_'+pick_type+'.npz'):\n",
    "        y_picked = {}\n",
    "        pos_picked = {}\n",
    "        for target_chromosome_id in tqdm(target_chromosome):\n",
    "            chromosome_name = 'chr'+target_chromosome_id\n",
    "            # Select specific chromosome\n",
    "            df_chr = df[df['chr_id'] == chromosome_name][['start', 'end']]\n",
    "            df_chr_pick = df_chr.sort_values(by='start').reset_index(drop=True)\n",
    "            chr_pick = df_chr_pick.values\n",
    "\n",
    "            # select chromosome\n",
    "            y_chr = y[chromosome_name]\n",
    "            pos_chr = pos[chromosome_name]\n",
    "            # initial new dataset\n",
    "            y_chr_picked = []\n",
    "            pos_chr_picked = [] \n",
    "            [last_start, last_end] = [0, 0]\n",
    "            for i in range(chr_pick.shape[0]):\n",
    "                [start, end] = chr_pick[i, :]\n",
    "                if pick_type == 'shores': # CpG shores\n",
    "                    if last_start == start-2000 or start-2000 < last_end:\n",
    "                        continue  \n",
    "                    startL_pick = bisect.bisect_left(pos_chr, start-2000)\n",
    "                    endL_pick = bisect.bisect_right(pos_chr,start) - 1\n",
    "                    startR_pick = bisect.bisect_left(pos_chr, end)\n",
    "                    endR_pick = bisect.bisect_right(pos_chr,end+2000) - 1\n",
    "                    if endR_pick <= 0:\n",
    "                        continue\n",
    "                    if endR_pick > pos_chr.shape[0]:\n",
    "                        continue\n",
    "                    y_chr_picked += list(y_chr[startL_pick:endL_pick,:])\n",
    "                    y_chr_picked += list(y_chr[startR_pick:endR_pick,:])\n",
    "                    pos_chr_picked += list(pos_chr[startL_pick:endL_pick])\n",
    "                    pos_chr_picked += list(pos_chr[startR_pick:endR_pick])\n",
    "                    [last_start, last_end] = [start-2000, end+2000]\n",
    "                else:\n",
    "                    if last_start == start or start < last_end:\n",
    "                        continue  \n",
    "                    start_pick = bisect.bisect_left(pos_chr, start)\n",
    "                    end_pick = bisect.bisect_right(pos_chr, end) - 1\n",
    "                    if end_pick <= 0:\n",
    "                        continue\n",
    "                    if end_pick > pos_chr.shape[0]:\n",
    "                        continue\n",
    "                    y_chr_picked += list(y_chr[start_pick:end_pick,:])\n",
    "                    pos_chr_picked += list(pos_chr[start_pick:end_pick])\n",
    "                    [last_start, last_end] = [start, end]\n",
    "            y_chr_picked = np.array(y_chr_picked)\n",
    "\n",
    "            y_picked[chromosome_name] = y_chr_picked\n",
    "            pos_picked[chromosome_name] = pos_chr_picked\n",
    "\n",
    "        # save as npz\n",
    "        np.savez_compressed('y_CpG_'+pick_type+'.npz', **y_picked)\n",
    "        np.savez_compressed('pos_CpG_'+pick_type+'.npz', **pos_picked)\n",
    "    "
   ]
  }
 ],
 "metadata": {
  "kernelspec": {
   "display_name": "graphcpg",
   "language": "python",
   "name": "python3"
  },
  "language_info": {
   "codemirror_mode": {
    "name": "ipython",
    "version": 3
   },
   "file_extension": ".py",
   "mimetype": "text/x-python",
   "name": "python",
   "nbconvert_exporter": "python",
   "pygments_lexer": "ipython3",
   "version": "3.9.0"
  },
  "orig_nbformat": 4,
  "vscode": {
   "interpreter": {
    "hash": "5dedb382c3e20e28cd4ad62bcb4bfc43f6459feecd0affd4ba47202d4f2f1cb6"
   }
  }
 },
 "nbformat": 4,
 "nbformat_minor": 2
}
